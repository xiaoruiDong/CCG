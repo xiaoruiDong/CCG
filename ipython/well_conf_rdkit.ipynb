{
 "cells": [
  {
   "cell_type": "markdown",
   "metadata": {},
   "source": [
    "# Generate mesh of well conformers\n",
    "This uses a RDkit as backend to generate the conformer and calculate the energy by Psi4."
   ]
  },
  {
   "cell_type": "code",
   "execution_count": null,
   "metadata": {},
   "outputs": [],
   "source": [
    "import os\n",
    "import multiprocessing\n",
    "from itertools import product\n",
    "from typing import List, Optional, Union\n",
    "\n",
    "import numpy as np\n",
    "import psi4\n",
    "import pybel\n",
    "from joblib import Parallel, delayed\n",
    "from rdkit import Chem\n",
    "\n",
    "from ccg.backend.rdk import RDKitMol, RDKitConf\n",
    "from ccg.converter.geom import (xyz_str_to_xyz_dict,\n",
    "                                xyz_dict_to_xyz_str,\n",
    "                                xyz_dict_to_xyz_file)\n",
    "\n",
    "# HTML\n",
    "from IPython.core.display import display, HTML\n",
    "display(HTML(\"<style>.container { width:100% !important; }</style>\"))"
   ]
  },
  {
   "cell_type": "code",
   "execution_count": null,
   "metadata": {
    "scrolled": false
   },
   "outputs": [],
   "source": [
    "def get_separable_angle_list(samplings: Union[list, tuple],\n",
    "                             original_angles: Union[list, tuple]):\n",
    "    \"\"\"\n",
    "    Get a angle list for each input dimension. For each dimension\n",
    "    The input can be a int, indicating the angles will be evenly sampled;\n",
    "    Or a list, indicate the angles to be sampled;\n",
    "    Examples:\n",
    "    [[120, 240,], 4, 0] => [np.array([120, 240,]), \n",
    "                            np.array([0, 90, 180, 270,]), \n",
    "                            np.array([0])]\n",
    "    List of np.arrays are returned for the sake of further calculation\n",
    "    \n",
    "    Args:\n",
    "        samplings (Union[list, tuple]): An array of sampling information.\n",
    "                  For each element, it can be either list or int.\n",
    "    \n",
    "    Returns:\n",
    "        list: A list of sampled angles sets.\n",
    "    \"\"\"\n",
    "    original_angles = original_angles or len(samplings) * [0.]\n",
    "    angle_list = []\n",
    "    for ind, angles in enumerate(samplings):\n",
    "        # Only provide a number\n",
    "        # This is the step number of the angles\n",
    "        if isinstance(angles, (int, float)):\n",
    "            try:\n",
    "                step = 360 // angles\n",
    "            except ZeroDivisionError:\n",
    "                # Does not change\n",
    "                angles = original_angles[ind] + np.array([0])\n",
    "            else:\n",
    "                angles = original_angles[ind] + \\\n",
    "                         np.array([step * i for i in range(angles)])\n",
    "        elif isinstance(angles, list):\n",
    "            angles = original_angles[ind] + np.array(angles)\n",
    "        angle_list.append(angles.tolist())\n",
    "            \n",
    "    return angle_list\n",
    "\n",
    "\n",
    "def get_angle_mesh(angle_list: list):\n",
    "    \"\"\"\n",
    "    Get the angle mesh. The created mesh is a Cartesian product of the list.\n",
    "    \n",
    "    Args:\n",
    "        angle_list (list): A list of angle list.\n",
    "    \"\"\"\n",
    "    return product(*angle_list)\n",
    "    \n",
    "\n",
    "def conformers_by_change_torsions(conf: 'RDKitConf',\n",
    "                                  angle_mesh,\n",
    "                                  bookkeep: dict,\n",
    "                                  torsions=None,\n",
    "                                  on_the_fly_check=False):\n",
    "    \"\"\"\n",
    "    Generate conformers by rotating the angles of the torsions. The result will be saved into\n",
    "    ``bookkeep``. A on-the-fly check can be applied, which identifies the conformers with colliding\n",
    "    atoms.\n",
    "    \n",
    "    Args:\n",
    "        conf (RDkitConf): A RDKit Conformer to be used.\n",
    "        angle_mesh (iterable): An iterable contains the angle_list for conformers to be generated from.\n",
    "        bookkeep (dict): A dictionary to save the coords.\n",
    "        torsions (list): A list of four-atom-index lists indicating the torsional modes.\n",
    "        on_the_fly_filter (bool): Whether to check colliding atoms on the fly.\n",
    "    \"\"\"\n",
    "    if not torsions:\n",
    "        torsions = conf.GetTorsionalModes()\n",
    "    for ind, angles in enumerate(angle_mesh):\n",
    "        \n",
    "        conf.SetAllTorsionsDeg(angles)\n",
    "        bookkeep[ind] = {'angles': angles,\n",
    "                         'coords': conf.GetPositions().tolist()}\n",
    "        bookkeep[ind]['colliding_atoms'] = conf.HasCollidingAtoms() \\\n",
    "                if on_the_fly_check == True else None"
   ]
  },
  {
   "cell_type": "markdown",
   "metadata": {},
   "source": [
    "## 1.0 Perceive a molecule"
   ]
  },
  {
   "cell_type": "code",
   "execution_count": null,
   "metadata": {},
   "outputs": [],
   "source": [
    "xyz_str=\"\"\"O       1.85073500   -1.14075800   -0.80808500\n",
    "O       1.64413700   -0.98958800    0.61920900\n",
    "C       0.89993200    0.19167500    0.83332300\n",
    "C       1.57997200    1.46553500    0.32458600\n",
    "C       0.87059800    2.73251700    0.76632100\n",
    "O       2.94131500    1.54377500    0.86706900\n",
    "O       3.78534700    0.75777800    0.22699800\n",
    "H       2.74479300   -0.76185300   -0.87545700\n",
    "H       0.78501500    0.22753800    1.92086600\n",
    "H      -0.09098800    0.11998200    0.36665200\n",
    "H       1.69085200    1.41865800   -0.75897600\n",
    "H       0.84097800    2.80358600    1.85617500\n",
    "H      -0.15579100    2.73441900    0.39232200\n",
    "H       1.37972400    3.61444100    0.37512000\"\"\""
   ]
  },
  {
   "cell_type": "code",
   "execution_count": null,
   "metadata": {},
   "outputs": [],
   "source": [
    "xyz_file = f\"{len(xyz_str.splitlines())}\\n\\n{xyz_str}\"\n",
    "xyz_dict = xyz_str_to_xyz_dict(xyz_str)\n",
    "pybel_mol = pybel.readstring('xyz', xyz_file)"
   ]
  },
  {
   "cell_type": "markdown",
   "metadata": {},
   "source": [
    "## 1.1 Use RDKit to generate conformers"
   ]
  },
  {
   "cell_type": "code",
   "execution_count": null,
   "metadata": {},
   "outputs": [],
   "source": [
    "rdkitmol = RDKitMol.FromOBMol(pybel_mol.OBMol)\n",
    "\n",
    "rdkitmol.EmbedMultipleConfs(1)\n",
    "confs = rdkitmol.GetAllConformers()\n",
    "confs[0].SetPositions(xyz_dict['coords'])\n",
    "\n",
    "torsions = rdkitmol.GetTorsionalModes()\n",
    "num_torsions = len(torsions)\n",
    "original_angles = confs[0].GetAllTorsionsDeg()\n",
    "\n",
    "angles_list = get_separable_angle_list([3]*5,\n",
    "                                       original_angles)\n",
    "angle_mesh = product(*angles_list)\n",
    "\n",
    "bookkeep = {}\n",
    "conformers_by_change_torsions(confs[0],\n",
    "                              angle_mesh,\n",
    "                              bookkeep=bookkeep,\n",
    "                              on_the_fly_check=True)"
   ]
  },
  {
   "cell_type": "markdown",
   "metadata": {},
   "source": [
    "### [OPTIONAL] Print Conformers with colliding atoms"
   ]
  },
  {
   "cell_type": "code",
   "execution_count": null,
   "metadata": {},
   "outputs": [],
   "source": [
    "num = 0\n",
    "for value in bookkeep.values():\n",
    "    if value['colliding_atoms']:\n",
    "        print(f'{value}\\n')\n",
    "        num += 1\n",
    "print(f\"\\n{num} out of {len(bookkeep)} conformers may have colliding atoms\")"
   ]
  },
  {
   "cell_type": "markdown",
   "metadata": {},
   "source": [
    "### [OPTIONAL] Align Conformers"
   ]
  },
  {
   "cell_type": "code",
   "execution_count": null,
   "metadata": {},
   "outputs": [],
   "source": [
    "import py3Dmol"
   ]
  },
  {
   "cell_type": "code",
   "execution_count": null,
   "metadata": {},
   "outputs": [],
   "source": [
    "rdkitmol.EmbedMultipleConfs(len(bookkeep))\n",
    "confs = rdkitmol.GetAllConformers()\n",
    "torsions_values = []\n",
    "for i, value in bookkeep.items():\n",
    "    confs[i].SetPositions(value['coords'])\n",
    "    torsion_value = np.array(confs[i].GetAllTorsionsDeg())\n",
    "    for tv in torsions_values:\n",
    "        if np.allclose(tv, torsion_value):\n",
    "            print(i)\n",
    "            break\n",
    "    else:\n",
    "        torsions_values.append(torsion_value)\n",
    "rd_mol = rdkitmol.ToRDMol()"
   ]
  },
  {
   "cell_type": "code",
   "execution_count": null,
   "metadata": {},
   "outputs": [],
   "source": [
    "rmsd_list = []\n",
    "Chem.rdMolAlign.AlignMolConformers(rd_mol, maxIters=50, RMSlist=rmsd_list)\n",
    "# rmsd_list "
   ]
  },
  {
   "cell_type": "code",
   "execution_count": null,
   "metadata": {
    "scrolled": false
   },
   "outputs": [],
   "source": [
    "view = py3Dmol.view(width=600, height=400)\n",
    "for i in range(len(bookkeep)):\n",
    "    view.addModel(Chem.MolToMolBlock(rd_mol, confId=i), 'sdf')\n",
    "view.setStyle({'stick':{'colorscheme':'cyanCarbon'}})\n",
    "view.render()"
   ]
  },
  {
   "cell_type": "markdown",
   "metadata": {},
   "source": [
    "## 2. Calculate Psi4"
   ]
  },
  {
   "cell_type": "code",
   "execution_count": null,
   "metadata": {},
   "outputs": [],
   "source": [
    "# use uhf for open shell species and rhf for closed shell species!\n",
    "def get_psi4_dftenergy(geom):\n",
    "    psi4.set_memory('8000 MB')\n",
    "    psi4.set_options({'reference': 'uhf'})\n",
    "    try:\n",
    "        psi4.geometry(geom)\n",
    "        return psi4.energy('wb97x-d/def2-svp')\n",
    "    except:\n",
    "        return np.inf\n",
    "\n",
    "import time\n",
    "\n",
    "def wrapper(i):\n",
    "    start = time.time()\n",
    "    xyz_dict['coords'] = bookkeep[i]['geom']\n",
    "    xyz_file = xyz_dict_to_xyz_file(xyz_dict)\n",
    "    value['energy'] = get_psi4_dftenergy(xyz_file)\n",
    "    end = time.time()\n",
    "    print(f\"Conformer {i}, time spent: {end - start}\")\n",
    "\n",
    "Parallel(n_jobs=4)(delayed(wrapper)(i) for i in range(len(bookkeep)))"
   ]
  },
  {
   "cell_type": "code",
   "execution_count": null,
   "metadata": {},
   "outputs": [],
   "source": []
  }
 ],
 "metadata": {
  "@webio": {
   "lastCommId": null,
   "lastKernelId": null
  },
  "kernelspec": {
   "display_name": "Python 3.7.6 64-bit ('arc_env': conda)",
   "language": "python",
   "name": "python37664bitarcenvconda83c4abf9215d4a698ce68e2a44e6e6bc"
  },
  "language_info": {
   "codemirror_mode": {
    "name": "ipython",
    "version": 3
   },
   "file_extension": ".py",
   "mimetype": "text/x-python",
   "name": "python",
   "nbconvert_exporter": "python",
   "pygments_lexer": "ipython3",
   "version": "3.7.7"
  },
  "latex_envs": {
   "LaTeX_envs_menu_present": true,
   "autoclose": false,
   "autocomplete": true,
   "bibliofile": "biblio.bib",
   "cite_by": "apalike",
   "current_citInitial": 1,
   "eqLabelWithNumbers": true,
   "eqNumInitial": 1,
   "hotkeys": {
    "equation": "Ctrl-E",
    "itemize": "Ctrl-I"
   },
   "labels_anchors": false,
   "latex_user_defs": false,
   "report_style_numbering": false,
   "user_envs_cfg": false
  },
  "toc": {
   "base_numbering": 1,
   "nav_menu": {},
   "number_sections": true,
   "sideBar": true,
   "skip_h1_title": false,
   "title_cell": "Table of Contents",
   "title_sidebar": "Contents",
   "toc_cell": false,
   "toc_position": {},
   "toc_section_display": true,
   "toc_window_display": false
  },
  "varInspector": {
   "cols": {
    "lenName": 16,
    "lenType": 16,
    "lenVar": 40
   },
   "kernels_config": {
    "python": {
     "delete_cmd_postfix": "",
     "delete_cmd_prefix": "del ",
     "library": "var_list.py",
     "varRefreshCmd": "print(var_dic_list())"
    },
    "r": {
     "delete_cmd_postfix": ") ",
     "delete_cmd_prefix": "rm(",
     "library": "var_list.r",
     "varRefreshCmd": "cat(var_dic_list()) "
    }
   },
   "types_to_exclude": [
    "module",
    "function",
    "builtin_function_or_method",
    "instance",
    "_Feature"
   ],
   "window_display": false
  }
 },
 "nbformat": 4,
 "nbformat_minor": 4
}
